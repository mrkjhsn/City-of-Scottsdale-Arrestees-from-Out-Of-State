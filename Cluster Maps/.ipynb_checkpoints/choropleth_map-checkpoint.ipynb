{
 "cells": [
  {
   "cell_type": "markdown",
   "metadata": {},
   "source": [
    "### My first opportunity using the Plotly visualization library, I use it here to create a Choropleth map showing the sources of visitors to Scottsdale that get arrested while visiting."
   ]
  },
  {
   "cell_type": "code",
   "execution_count": 48,
   "metadata": {},
   "outputs": [
    {
     "data": {
      "text/html": [
       "        <script type=\"text/javascript\">\n",
       "        window.PlotlyConfig = {MathJaxConfig: 'local'};\n",
       "        if (window.MathJax) {MathJax.Hub.Config({SVG: {font: \"STIX-Web\"}});}\n",
       "        if (typeof require !== 'undefined') {\n",
       "        require.undef(\"plotly\");\n",
       "        requirejs.config({\n",
       "            paths: {\n",
       "                'plotly': ['https://cdn.plot.ly/plotly-latest.min']\n",
       "            }\n",
       "        });\n",
       "        require(['plotly'], function(Plotly) {\n",
       "            window._Plotly = Plotly;\n",
       "        });\n",
       "        }\n",
       "        </script>\n",
       "        "
      ]
     },
     "metadata": {},
     "output_type": "display_data"
    }
   ],
   "source": [
    "from plotly.offline import init_notebook_mode, iplot\n",
    "init_notebook_mode(connected=True)\n",
    "import plotly.graph_objs as go\n",
    "\n",
    "import plotly \n",
    "plotly.tools.set_credentials_file(username='mrk.jhsn', api_key='S6wMeE9qKcvjDvncAyT2')\n",
    "\n",
    "import numpy as np\n",
    "import pyodbc\n",
    "import pandas as pd\n",
    "\n",
    "# databaseConnection = 'DRIVER={SQL Server}; SERVER=ServerName; Database=DatbaseName; UID=UserId; PWD=password;'\n",
    "connection = pyodbc.connect('DRIVER={SQL Server};SERVER=WINDOWS-A6S01I2\\SQLEXPRESS;DATABASE=City_of_Scottsdale;Trusted_Connection=yes;')\n",
    "cursor = connection.cursor()\n",
    "\n",
    "#SQL Query pulls into Scottsdale arrestees with AZ arrestees already excluded \n",
    "ArresteesbyState = '''\n",
    " select  \n",
    "\tSUBSTRING(\n",
    "\t\t[City of Arrestee]\n",
    "\t\t,charindex(',',[City of Arrestee]) +2\n",
    "\t\t,2\n",
    "\t) as State_of_Arrestee\n",
    "\t,count(*) as _Count_\n",
    "from [dbo].[spd_PDArrests$]\n",
    "where [City of Arrestee] not like '%, AZ %' and --AZ arrestees excluded\n",
    "\t[City of Arrestee] like '%, __ _____' --messy, non-standard records excluded\n",
    "group by SUBSTRING(\n",
    "\t\t[City of Arrestee]\n",
    "\t\t,charindex(',',[City of Arrestee]) +2\n",
    "\t\t,2\n",
    "\t)\n",
    "    '''\n",
    "# save the sql query to a pandas dataframe\n",
    "ArresteesbyState = pd.read_sql(ArresteesbyState, connection)\n",
    "connection.close()\n",
    "\n",
    "#Create column 'Percent'\n",
    "ArresteesbyState['Percent'] = ArresteesbyState._Count_.apply(lambda x: x/ArresteesbyState._Count_.sum()*100)\n",
    "\n",
    "#format 'Percent_Arrested\" with more decimal places\n",
    "pd.options.display.float_format = '{:,.4f}'.format\n",
    "\n",
    "ArresteesbyState['Percent'] = ArresteesbyState.Percent.astype(float)\n",
    "\n",
    "#sort by states with the most arrestees\n",
    "ArresteesbyState.sort_values(['_Count_'],ascending=False, inplace=True)\n",
    "\n",
    "# rename columns for clarity\n",
    "ArresteesbyState = ArresteesbyState.rename({'State_of_Arrestee': 'State', 'Percent': 'Percent_Arrested'}, axis= 'columns')"
   ]
  },
  {
   "cell_type": "code",
   "execution_count": 50,
   "metadata": {},
   "outputs": [
    {
     "data": {
      "text/html": [
       "<div>\n",
       "<style scoped>\n",
       "    .dataframe tbody tr th:only-of-type {\n",
       "        vertical-align: middle;\n",
       "    }\n",
       "\n",
       "    .dataframe tbody tr th {\n",
       "        vertical-align: top;\n",
       "    }\n",
       "\n",
       "    .dataframe thead th {\n",
       "        text-align: right;\n",
       "    }\n",
       "</style>\n",
       "<table border=\"1\" class=\"dataframe\">\n",
       "  <thead>\n",
       "    <tr style=\"text-align: right;\">\n",
       "      <th></th>\n",
       "      <th>State</th>\n",
       "      <th>_Count_</th>\n",
       "      <th>Percent_Arrested</th>\n",
       "    </tr>\n",
       "  </thead>\n",
       "  <tbody>\n",
       "    <tr>\n",
       "      <th>5</th>\n",
       "      <td>CA</td>\n",
       "      <td>88</td>\n",
       "      <td>36.5145</td>\n",
       "    </tr>\n",
       "    <tr>\n",
       "      <th>11</th>\n",
       "      <td>IL</td>\n",
       "      <td>17</td>\n",
       "      <td>7.0539</td>\n",
       "    </tr>\n",
       "    <tr>\n",
       "      <th>33</th>\n",
       "      <td>TX</td>\n",
       "      <td>14</td>\n",
       "      <td>5.8091</td>\n",
       "    </tr>\n",
       "    <tr>\n",
       "      <th>36</th>\n",
       "      <td>WA</td>\n",
       "      <td>14</td>\n",
       "      <td>5.8091</td>\n",
       "    </tr>\n",
       "    <tr>\n",
       "      <th>24</th>\n",
       "      <td>NV</td>\n",
       "      <td>9</td>\n",
       "      <td>3.7344</td>\n",
       "    </tr>\n",
       "  </tbody>\n",
       "</table>\n",
       "</div>"
      ],
      "text/plain": [
       "   State  _Count_  Percent_Arrested\n",
       "5     CA       88           36.5145\n",
       "11    IL       17            7.0539\n",
       "33    TX       14            5.8091\n",
       "36    WA       14            5.8091\n",
       "24    NV        9            3.7344"
      ]
     },
     "execution_count": 50,
     "metadata": {},
     "output_type": "execute_result"
    }
   ],
   "source": [
    "ArresteesbyState.head()"
   ]
  },
  {
   "cell_type": "code",
   "execution_count": 61,
   "metadata": {},
   "outputs": [
    {
     "name": "stdout",
     "output_type": "stream",
     "text": [
      "High five! You successfully sent some data to your account on plotly. View your plot in your browser at https://plot.ly/~mrk.jhsn/0 or inside your plot.ly account where it is named 'd3-cloropleth-map'\n"
     ]
    },
    {
     "data": {
      "text/html": [
       "<iframe id=\"igraph\" scrolling=\"no\" style=\"border:none;\" seamless=\"seamless\" src=\"https://plot.ly/~mrk.jhsn/0.embed\" height=\"525px\" width=\"100%\"></iframe>"
      ],
      "text/plain": [
       "<chart_studio.tools.PlotlyDisplay object>"
      ]
     },
     "execution_count": 61,
     "metadata": {},
     "output_type": "execute_result"
    }
   ],
   "source": [
    "data = [go.Choropleth(   \n",
    "    locations = ArresteesbyState.iloc[:,0],\n",
    "    z = ArresteesbyState.iloc[:,1],\n",
    "    locationmode = 'USA-states',\n",
    "    text = ArresteesbyState.iloc[:,0])]\n",
    "\n",
    "layout = go.Layout(\n",
    "    title = go.layout.Title(\n",
    "        text = 'Source of Visitor Arrestees to Scottsdale AZ'\n",
    "    ),\n",
    "    geo = go.layout.Geo(\n",
    "        scope = 'usa',\n",
    "        projection = go.layout.geo.Projection(type = 'albers usa')))\n",
    "\n",
    "fig = go.Figure(data = data, layout = layout)\n",
    "py.iplot(fig, filename = 'd3-cloropleth-map')"
   ]
  }
 ],
 "metadata": {
  "kernelspec": {
   "display_name": "Python 3",
   "language": "python",
   "name": "python3"
  },
  "language_info": {
   "codemirror_mode": {
    "name": "ipython",
    "version": 3
   },
   "file_extension": ".py",
   "mimetype": "text/x-python",
   "name": "python",
   "nbconvert_exporter": "python",
   "pygments_lexer": "ipython3",
   "version": "3.7.1"
  }
 },
 "nbformat": 4,
 "nbformat_minor": 2
}
